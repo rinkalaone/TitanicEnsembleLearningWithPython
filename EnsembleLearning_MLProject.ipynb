{
 "cells": [
  {
   "cell_type": "markdown",
   "id": "63516f1b",
   "metadata": {},
   "source": [
    "# <center>Machine Learning Project - Ensemble Learning <br>with Scikit-learn and Keras</center>\n",
    "## <center>Ensemble of Models learning to predict the survival chances of the Passengers onboard the infamous <i>Titanic</i> Vessel</center>\n",
    "### <center>by Karine Legrand, February 2022</center>\n",
    "\n",
    "## Table of Contents\n",
    "<ul>\n",
    "<li><a href=\"#intro\">Introduction</a></li>\n",
    "<li><a href=\"#data\">Data Acquisition, Wrangling and Preprocessing</a>\n",
    "<li><a href=\"#ensembles\">Choosing Ensembles Learning Models</a></li>\n",
    "<li><a href=\"#results\">Comparing the Ensembles' Results</a></li>    \n",
    "<li><a href=\"#conclusion\">Conclusion and Limitations</a></li>\n",
    "</ul>"
   ]
  },
  {
   "cell_type": "markdown",
   "id": "fe7f7341",
   "metadata": {},
   "source": [
    "<a id='intro'></a>\n",
    "## Introduction\n",
    "\n",
    "Let's consider the well-known dataset describing characteristics of the Passengers onboard the infamous 'Titanic' Vessel, wich sank on April 14th of 1912, close to the Coast of New Foundland/Canada. The Majority of those passengers (about $60\\%$) did not survive the Tragedy.<br><br>We could take different Approaches and for instance, as I did in previous Projects:\n",
    "- Conduct an Exploratory Data Analysis to get Insights about which factors would affect the chance of survival. We could with this <i>EDA</i>, analyse with statistical methods and visualizations, wether -and under which possible circonstances-, some people were more likely to survive the tragedy than others\n",
    "- As another Approach we could design a Neural Network working as a 'Classifier' to predict our Outcome (\"survived\"/\"trepassed\"). We would therefore, take a set of features in the dataset, that would be used to train the model, which in turn, would be able to predict our dependent variable, i.e  wether a passenger survived or not. As our outcome is a categorical variable with 2 levels (\"survived\"/\"died\", or \"True/False\"), we would implement A Neural Network for \"Binary Classification\", with the TensorFlow/Keras framework.\n",
    "<br>\n",
    "\n",
    "We will yet in this Project, take a third Approach, using Ensemble Learning algorithms. We will build several Ensemble Models grouping \"weak\" Classification Learners, with different Techniques (Bagging, Boosting, VotingClassifier).\n",
    "After inspecting the Performance of the Ensembles in comparison to each of the weak Learners alone,  we will finally compare the different Ensemble Learning Models to one another."
   ]
  },
  {
   "cell_type": "markdown",
   "id": "e0c2da65",
   "metadata": {},
   "source": [
    "<a id='data'></a>\n",
    "## Data Acquisition, Wrangling and Preprocessing\n",
    "\n",
    "As in any Data Analysis Approach, the Input Data first need to be aquired, wrangled, cleaned and processed. Only then, can it be used by the Model(s) we choose for making predictions of the dependent variable (here `Survived`), based on our independent variables, (here: `['Pclass', 'Sex', 'Age', 'SibSp', 'Parch', 'Fare', 'Cabin', 'Embarked']`).<br>\n",
    "<br> \n",
    "\n",
    "Overview of the Columns-meaning:\n",
    "- \"SibSp\" stands for \"Siblings/Spouse\",\n",
    "- \"ParCh\" stands for \"Parents/Children\",\n",
    "Both variables indicates if a Passenger had Sibling(s)/Partner and Parents/Children on board or none of them and travelling alone,\n",
    "- \"Embarked\" is related to the Port on the Route where People embarked, either \"S for Southampton\", \"C for Cherbourg\" or \"Q for Queenstown\" in the Uk and in France,\n",
    "- \"Fare\" is the price the person paid for him/herself and their family if any,\n",
    "- \"Cabin\" is the Reference number of the reserved cabin if any,\n",
    "- \"Pclass\" is the Travel-class of the Passenger (First, Second or Third).\n",
    "The other columns are self explanatory.\n",
    "\n",
    "<br><br>I will use the cleaned Data from a previous Project, where the following necessary steps were taken:\n",
    "\n",
    "- Fixing quality and tidiness issues (always needed)\n",
    "- Formatting the data for scikit-learn (Machine Learning Models )or keras (Neural Network) specific use. For this it means, precisely to \"One hot encode\" categorical variables.\n",
    " \n",
    "<i>The csv File \"titanic_DL_ready.csv\", provided with this notebook, must be in the current working directory.</i>"
   ]
  },
  {
   "cell_type": "markdown",
   "id": "0c90c00e",
   "metadata": {},
   "source": [
    "### Importing the 'Data Science Stack' Libraries"
   ]
  },
  {
   "cell_type": "code",
   "execution_count": 1,
   "id": "691cec2e",
   "metadata": {},
   "outputs": [],
   "source": [
    "# import Data Analysis stack libraries\n",
    "import numpy as np \n",
    "import pandas as pd\n",
    "import matplotlib.pyplot as plt\n",
    "import seaborn as sns\n",
    "%matplotlib inline"
   ]
  },
  {
   "cell_type": "code",
   "execution_count": 2,
   "id": "ccdc00ca",
   "metadata": {},
   "outputs": [],
   "source": [
    "# import the Machine Learning needed packages\n",
    "from sklearn.model_selection import train_test_split\n",
    "from sklearn.tree import DecisionTreeClassifier\n",
    "from sklearn.ensemble import RandomForestClassifier, BaggingClassifier, VotingClassifier\n",
    "from sklearn.ensemble import GradientBoostingClassifier, AdaBoostClassifier\n",
    "from sklearn.linear_model import LogisticRegression, SGDClassifier\n",
    "from sklearn.svm import SVC\n",
    "from sklearn.naive_bayes import GaussianNB\n",
    "from sklearn.metrics import accuracy_score"
   ]
  },
  {
   "cell_type": "code",
   "execution_count": 3,
   "id": "3abbaaf7",
   "metadata": {},
   "outputs": [],
   "source": [
    "import xgboost as xgb \n",
    "# Note: XGBoost was installed in our conda environment \n",
    "# with \"conda install -c conda-forge py-xgboost\"\n",
    "\n",
    "# import the libraries for Neural Network modeling\n",
    "import tensorflow as tf\n",
    "from tensorflow import keras\n",
    "from keras import layers, Sequential\n"
   ]
  },
  {
   "cell_type": "markdown",
   "id": "54e45bdd",
   "metadata": {},
   "source": [
    "### Load the csv File with pandas"
   ]
  },
  {
   "cell_type": "code",
   "execution_count": 4,
   "id": "e3a86dc0",
   "metadata": {},
   "outputs": [
    {
     "name": "stdout",
     "output_type": "stream",
     "text": [
      "(889, 12)\n"
     ]
    }
   ],
   "source": [
    "# first load our Dataset\n",
    "df_titanic = pd.read_csv(\"titanic_DL_ready.csv\")\n",
    "print(df_titanic.shape)"
   ]
  },
  {
   "cell_type": "code",
   "execution_count": 5,
   "id": "14befd94",
   "metadata": {},
   "outputs": [
    {
     "data": {
      "text/html": [
       "<div>\n",
       "<style scoped>\n",
       "    .dataframe tbody tr th:only-of-type {\n",
       "        vertical-align: middle;\n",
       "    }\n",
       "\n",
       "    .dataframe tbody tr th {\n",
       "        vertical-align: top;\n",
       "    }\n",
       "\n",
       "    .dataframe thead th {\n",
       "        text-align: right;\n",
       "    }\n",
       "</style>\n",
       "<table border=\"1\" class=\"dataframe\">\n",
       "  <thead>\n",
       "    <tr style=\"text-align: right;\">\n",
       "      <th></th>\n",
       "      <th>Survived</th>\n",
       "      <th>Pclass</th>\n",
       "      <th>Age</th>\n",
       "      <th>SibSp</th>\n",
       "      <th>Parch</th>\n",
       "      <th>Fare</th>\n",
       "      <th>Cabin</th>\n",
       "      <th>Sex_female</th>\n",
       "      <th>Sex_male</th>\n",
       "      <th>Embarked_C</th>\n",
       "      <th>Embarked_Q</th>\n",
       "      <th>Embarked_S</th>\n",
       "    </tr>\n",
       "  </thead>\n",
       "  <tbody>\n",
       "    <tr>\n",
       "      <th>0</th>\n",
       "      <td>0</td>\n",
       "      <td>3</td>\n",
       "      <td>22.0</td>\n",
       "      <td>1</td>\n",
       "      <td>0</td>\n",
       "      <td>7.2500</td>\n",
       "      <td>0</td>\n",
       "      <td>0</td>\n",
       "      <td>1</td>\n",
       "      <td>0</td>\n",
       "      <td>0</td>\n",
       "      <td>1</td>\n",
       "    </tr>\n",
       "    <tr>\n",
       "      <th>1</th>\n",
       "      <td>1</td>\n",
       "      <td>1</td>\n",
       "      <td>38.0</td>\n",
       "      <td>1</td>\n",
       "      <td>0</td>\n",
       "      <td>71.2833</td>\n",
       "      <td>1</td>\n",
       "      <td>1</td>\n",
       "      <td>0</td>\n",
       "      <td>1</td>\n",
       "      <td>0</td>\n",
       "      <td>0</td>\n",
       "    </tr>\n",
       "    <tr>\n",
       "      <th>2</th>\n",
       "      <td>1</td>\n",
       "      <td>3</td>\n",
       "      <td>26.0</td>\n",
       "      <td>0</td>\n",
       "      <td>0</td>\n",
       "      <td>7.9250</td>\n",
       "      <td>0</td>\n",
       "      <td>1</td>\n",
       "      <td>0</td>\n",
       "      <td>0</td>\n",
       "      <td>0</td>\n",
       "      <td>1</td>\n",
       "    </tr>\n",
       "    <tr>\n",
       "      <th>3</th>\n",
       "      <td>1</td>\n",
       "      <td>1</td>\n",
       "      <td>35.0</td>\n",
       "      <td>1</td>\n",
       "      <td>0</td>\n",
       "      <td>53.1000</td>\n",
       "      <td>1</td>\n",
       "      <td>1</td>\n",
       "      <td>0</td>\n",
       "      <td>0</td>\n",
       "      <td>0</td>\n",
       "      <td>1</td>\n",
       "    </tr>\n",
       "    <tr>\n",
       "      <th>4</th>\n",
       "      <td>0</td>\n",
       "      <td>3</td>\n",
       "      <td>35.0</td>\n",
       "      <td>0</td>\n",
       "      <td>0</td>\n",
       "      <td>8.0500</td>\n",
       "      <td>0</td>\n",
       "      <td>0</td>\n",
       "      <td>1</td>\n",
       "      <td>0</td>\n",
       "      <td>0</td>\n",
       "      <td>1</td>\n",
       "    </tr>\n",
       "  </tbody>\n",
       "</table>\n",
       "</div>"
      ],
      "text/plain": [
       "   Survived  Pclass   Age  SibSp  Parch     Fare  Cabin  Sex_female  Sex_male  \\\n",
       "0         0       3  22.0      1      0   7.2500      0           0         1   \n",
       "1         1       1  38.0      1      0  71.2833      1           1         0   \n",
       "2         1       3  26.0      0      0   7.9250      0           1         0   \n",
       "3         1       1  35.0      1      0  53.1000      1           1         0   \n",
       "4         0       3  35.0      0      0   8.0500      0           0         1   \n",
       "\n",
       "   Embarked_C  Embarked_Q  Embarked_S  \n",
       "0           0           0           1  \n",
       "1           1           0           0  \n",
       "2           0           0           1  \n",
       "3           0           0           1  \n",
       "4           0           0           1  "
      ]
     },
     "execution_count": 5,
     "metadata": {},
     "output_type": "execute_result"
    }
   ],
   "source": [
    "df_titanic.head()"
   ]
  },
  {
   "cell_type": "markdown",
   "id": "df3e16f7",
   "metadata": {},
   "source": [
    "Note about \"One-Hot-Encoding\":<br>\n",
    "The categorical non-ordinal features need to be converted in a binary form, because our model can only work with numerical values. This is the case for `['Sex', 'Cabin', 'Embarked']`.\n",
    "<i>Note:</i> The feature `Pclass` is categorical and integer-encoded (1 to 3). It is also <i>ordinal</i>. It means that the travelling Class has a rank (1 is the best, 3 is the worst Class). In this case it is important to preserve this valuable information and keep the levels together in one single variable, as the models can interpret this.\n"
   ]
  },
  {
   "cell_type": "markdown",
   "id": "729d89f3",
   "metadata": {},
   "source": [
    "### Assign the Features and the Response, split the Data in Training/Test sets"
   ]
  },
  {
   "cell_type": "code",
   "execution_count": 6,
   "id": "927c0e41",
   "metadata": {},
   "outputs": [
    {
     "name": "stdout",
     "output_type": "stream",
     "text": [
      "(889, 11) <class 'pandas.core.frame.DataFrame'>\n",
      "(889,) <class 'pandas.core.series.Series'>\n"
     ]
    }
   ],
   "source": [
    "# set the Features\n",
    "X = df_titanic.drop(columns=['Survived']) # all the columns except the Response\n",
    "\n",
    "# set the Labels\n",
    "y = df_titanic['Survived'] # the variable we aim to predict\n",
    "\n",
    "print(X.shape, type(X))\n",
    "print(y.shape, type(y))"
   ]
  },
  {
   "cell_type": "markdown",
   "id": "b233f6be",
   "metadata": {},
   "source": [
    "Next we will split the Data. Note that we need to keep the same proportion of the label values across the randomly splitted data, because these are imbalanced (about 40% of People survived against 60% of People who did not) and will therefore need to <i>stratify</i> the data against our Label values, when splitting them."
   ]
  },
  {
   "cell_type": "code",
   "execution_count": 7,
   "id": "0117f6cf",
   "metadata": {},
   "outputs": [],
   "source": [
    "# Set the Train and Test sets\n",
    "X_train, X_test, y_train, y_test = train_test_split(X, y, test_size=0.2, random_state=4,\n",
    "                                                   stratify=y)"
   ]
  },
  {
   "cell_type": "markdown",
   "id": "7c2e7410",
   "metadata": {},
   "source": [
    "### Normalizing the Features"
   ]
  },
  {
   "cell_type": "markdown",
   "id": "e364af6f",
   "metadata": {},
   "source": [
    "Normalizing the Train Data is an important step as it prevents our Classifiers to wrongly interpret some features as being more significant than others.\n",
    "To illustrate this issue, let's have a deeper look at the values taken by the 'Pclass', 'SibSp', 'Parch' and 'Fare' Features, respectively:"
   ]
  },
  {
   "cell_type": "code",
   "execution_count": 8,
   "id": "a6bcc69d",
   "metadata": {},
   "outputs": [
    {
     "data": {
      "text/html": [
       "<div>\n",
       "<style scoped>\n",
       "    .dataframe tbody tr th:only-of-type {\n",
       "        vertical-align: middle;\n",
       "    }\n",
       "\n",
       "    .dataframe tbody tr th {\n",
       "        vertical-align: top;\n",
       "    }\n",
       "\n",
       "    .dataframe thead th {\n",
       "        text-align: right;\n",
       "    }\n",
       "</style>\n",
       "<table border=\"1\" class=\"dataframe\">\n",
       "  <thead>\n",
       "    <tr style=\"text-align: right;\">\n",
       "      <th></th>\n",
       "      <th>Pclass</th>\n",
       "      <th>Fare</th>\n",
       "      <th>SibSp</th>\n",
       "      <th>Parch</th>\n",
       "    </tr>\n",
       "  </thead>\n",
       "  <tbody>\n",
       "    <tr>\n",
       "      <th>mean</th>\n",
       "      <td>2.298172</td>\n",
       "      <td>33.479769</td>\n",
       "      <td>0.511955</td>\n",
       "      <td>0.382560</td>\n",
       "    </tr>\n",
       "    <tr>\n",
       "      <th>std</th>\n",
       "      <td>0.836481</td>\n",
       "      <td>52.870896</td>\n",
       "      <td>1.083583</td>\n",
       "      <td>0.808358</td>\n",
       "    </tr>\n",
       "    <tr>\n",
       "      <th>min</th>\n",
       "      <td>1.000000</td>\n",
       "      <td>0.000000</td>\n",
       "      <td>0.000000</td>\n",
       "      <td>0.000000</td>\n",
       "    </tr>\n",
       "    <tr>\n",
       "      <th>max</th>\n",
       "      <td>3.000000</td>\n",
       "      <td>512.329200</td>\n",
       "      <td>8.000000</td>\n",
       "      <td>6.000000</td>\n",
       "    </tr>\n",
       "  </tbody>\n",
       "</table>\n",
       "</div>"
      ],
      "text/plain": [
       "        Pclass        Fare     SibSp     Parch\n",
       "mean  2.298172   33.479769  0.511955  0.382560\n",
       "std   0.836481   52.870896  1.083583  0.808358\n",
       "min   1.000000    0.000000  0.000000  0.000000\n",
       "max   3.000000  512.329200  8.000000  6.000000"
      ]
     },
     "execution_count": 8,
     "metadata": {},
     "output_type": "execute_result"
    }
   ],
   "source": [
    "X_train[['Pclass', 'Fare', 'SibSp','Parch']].describe().loc[['mean', 'std', 'min','max']]"
   ]
  },
  {
   "cell_type": "markdown",
   "id": "1de66eff",
   "metadata": {},
   "source": [
    "If we did not normalize the data, the Models would be biased towards the 'Fare' values and interpret a bigger significance of this Feature for predicting a Label. To prevent this, all Feature values are translated and represented as a normalized value instead."
   ]
  },
  {
   "cell_type": "code",
   "execution_count": 9,
   "id": "d2039454",
   "metadata": {},
   "outputs": [],
   "source": [
    "# Let's Normalize the Data with MinMaxScaler\n",
    "from sklearn.preprocessing import MinMaxScaler"
   ]
  },
  {
   "cell_type": "code",
   "execution_count": 10,
   "id": "3195ca75",
   "metadata": {},
   "outputs": [],
   "source": [
    "# Use the MinMaxScaler Class\n",
    "sc = MinMaxScaler(feature_range=(0.01, 0.99))\n",
    "\n",
    "# fit\n",
    "sc.fit(X_train)\n",
    "\n",
    "X_train_sc =sc.transform(X_train)\n",
    "X_test_sc = sc.transform(X_test)"
   ]
  },
  {
   "cell_type": "markdown",
   "id": "e44ddca3",
   "metadata": {},
   "source": [
    "<i>Note:</i> To normalize the data we use the 'MinMaxScaler' instead of the 'StandardScaler' from sklearn, translating the values between (0, 1) exclusively.\n",
    "The reason to this is that we will use a Neural Network as one of our \"Classifiers\", with a \"ReLu\"(Rectified Linear Unit) activation function. All negative or null Input values would be bypassed in this case, if the Data was normalized with a 'StandardScaler'!"
   ]
  },
  {
   "cell_type": "code",
   "execution_count": 11,
   "id": "9bd24dd8",
   "metadata": {},
   "outputs": [
    {
     "data": {
      "text/plain": [
       "array([[0.99      , 0.37232699, 0.01      , 0.01      , 0.02386804,\n",
       "        0.01      , 0.01      , 0.99      , 0.01      , 0.01      ,\n",
       "        0.99      ]])"
      ]
     },
     "execution_count": 11,
     "metadata": {},
     "output_type": "execute_result"
    }
   ],
   "source": [
    "X_train_sc[:1]"
   ]
  },
  {
   "cell_type": "code",
   "execution_count": 12,
   "id": "40e328e3",
   "metadata": {},
   "outputs": [
    {
     "data": {
      "text/plain": [
       "364    0\n",
       "Name: Survived, dtype: int64"
      ]
     },
     "execution_count": 12,
     "metadata": {},
     "output_type": "execute_result"
    }
   ],
   "source": [
    "y_train[:1]"
   ]
  },
  {
   "cell_type": "code",
   "execution_count": 11,
   "id": "b815c96d",
   "metadata": {},
   "outputs": [
    {
     "data": {
      "text/plain": [
       "array([[0.99      , 0.36861005, 0.1325    , 0.17333333, 0.03916266,\n",
       "        0.01      , 0.01      , 0.99      , 0.99      , 0.01      ,\n",
       "        0.01      ]])"
      ]
     },
     "execution_count": 11,
     "metadata": {},
     "output_type": "execute_result"
    }
   ],
   "source": [
    "X_test_sc[:1]"
   ]
  },
  {
   "cell_type": "code",
   "execution_count": 14,
   "id": "b4d1ebd6",
   "metadata": {},
   "outputs": [
    {
     "data": {
      "text/plain": [
       "708    1\n",
       "Name: Survived, dtype: int64"
      ]
     },
     "execution_count": 14,
     "metadata": {},
     "output_type": "execute_result"
    }
   ],
   "source": [
    "y_test[:1]"
   ]
  },
  {
   "cell_type": "code",
   "execution_count": 15,
   "id": "1fa0ca8b",
   "metadata": {},
   "outputs": [
    {
     "name": "stdout",
     "output_type": "stream",
     "text": [
      "<class 'pandas.core.frame.DataFrame'> <class 'numpy.ndarray'> <class 'pandas.core.series.Series'> <class 'pandas.core.series.Series'>\n"
     ]
    }
   ],
   "source": [
    "print(type(X_train), type(X_train_sc), type(y_train), type(y_test))"
   ]
  },
  {
   "cell_type": "markdown",
   "id": "abdfdfee",
   "metadata": {},
   "source": [
    "<a id=\"ensembles\"></a>\n",
    "## Choosing Ensemble Learning Models\n",
    "\n",
    "### 1. Pick the \"weak\" Learners\n",
    "In this section we will first pick each of the Classifier Estimators that could be used alone to solve our Classification Problem. We will train each model with the training Data and compute the Accuracy of the Class Predictions on the Train and Test Sets, for each of them. "
   ]
  },
  {
   "cell_type": "markdown",
   "id": "2f02c381",
   "metadata": {},
   "source": [
    "#### 1. Decision Tree Classifier\n",
    "\n",
    "The Decision Tree is a low latency and robust Classifier which still has a major drawback: It is prone to overfit. To prevent this, we set a constraint on the maximal level-depth in the parameter `max_depth` of the constructor, which increases the performance of the model at generalizing.  "
   ]
  },
  {
   "cell_type": "markdown",
   "id": "023af2c0",
   "metadata": {},
   "source": [
    "##### Instantiate and train the Model:"
   ]
  },
  {
   "cell_type": "code",
   "execution_count": 17,
   "id": "bd26620f",
   "metadata": {},
   "outputs": [],
   "source": [
    "%%capture exec_time \n",
    "%%time\n",
    "# Decision Tree\n",
    "\n",
    "dt = DecisionTreeClassifier(random_state=42, max_depth=4) #random_state is used for reproducibility\n",
    "dt.fit(X_train_sc,y_train)"
   ]
  },
  {
   "cell_type": "code",
   "execution_count": 13,
   "id": "3d7e6630",
   "metadata": {},
   "outputs": [
    {
     "name": "stdout",
     "output_type": "stream",
     "text": [
      "CPU times: user 2.2 ms, sys: 1.11 ms, total: 3.31 ms\n",
      "Wall time: 2.31 ms\n",
      " {'_stdout': <_io.StringIO object at 0x7fcdbf396c10>, '_stderr': <_io.StringIO object at 0x7fcdbf396af0>, '_outputs': [{'data': {'text/plain': 'DecisionTreeClassifier(max_depth=4, random_state=42)'}, 'metadata': {}}]}\n"
     ]
    }
   ],
   "source": [
    "# the %%capture magic gets the output of the whole cell, so we can save the %%time output\n",
    "# in a variable \n",
    "print(exec_time, vars(exec_time))"
   ]
  },
  {
   "cell_type": "markdown",
   "id": "f0c12d3a",
   "metadata": {},
   "source": [
    "##### Keep the execution time for (creating and) training the model for later comparison:"
   ]
  },
  {
   "cell_type": "code",
   "execution_count": 14,
   "id": "ad19ef03",
   "metadata": {},
   "outputs": [
    {
     "data": {
      "text/plain": [
       "'2.31 ms'"
      ]
     },
     "execution_count": 14,
     "metadata": {},
     "output_type": "execute_result"
    }
   ],
   "source": [
    "# with the %%capture cell magic, grab the value printed out as the \"Wall time\" for re-use!\n",
    "wall_time = exec_time.stdout.strip().split(\"\\n\")[1][11:]\n",
    "wall_time"
   ]
  },
  {
   "cell_type": "markdown",
   "id": "674f4e08",
   "metadata": {},
   "source": [
    "##### Define a list `list_results` and a Utility Function `model_print_score` to print out the Train/Test scores and keep the results:"
   ]
  },
  {
   "cell_type": "code",
   "execution_count": 15,
   "id": "2605944c",
   "metadata": {},
   "outputs": [],
   "source": [
    "list_results = list()"
   ]
  },
  {
   "cell_type": "code",
   "execution_count": 16,
   "id": "9ba0e412",
   "metadata": {},
   "outputs": [],
   "source": [
    "# Utility Function to print out the scores of a model\n",
    "def model_print_score(model=None, list_res=None, wall_time=None, name=None):\n",
    "    \"\"\" This function evaluates the accuracy of the model in respect to the Train and Test\n",
    "        Data and keeps these values as well as the execution time for training, in a list, \n",
    "        for later re-use.\n",
    "    \"\"\"\n",
    "    #print(X_test_sc.shape, y_test.shape) #debug for VotingClassifier with NN\n",
    "    #print(X_train_sc.shape, y_train.shape)\n",
    "    \n",
    "    acc_test  = model.score(X_test_sc,y_test)\n",
    "    acc_train = model.score(X_train_sc,y_train)\n",
    "    \n",
    "    print(f\"Accuracy on Train data: {acc_train:.3f} and on Test Data: {acc_test:.3f}\")\n",
    "    if not name:\n",
    "        list_res.append((model.__class__.__name__, round(acc_train, 3), round(acc_test,3), \n",
    "                    wall_time))\n",
    "    else:\n",
    "        list_res.append((name, round(acc_train, 3), round(acc_test,3), \n",
    "                    wall_time))"
   ]
  },
  {
   "cell_type": "markdown",
   "id": "c539edb9",
   "metadata": {},
   "source": [
    "##### Get the Train/Test Accuracy of the Model:"
   ]
  },
  {
   "cell_type": "code",
   "execution_count": 17,
   "id": "8e6086ca",
   "metadata": {},
   "outputs": [
    {
     "name": "stdout",
     "output_type": "stream",
     "text": [
      "Accuracy on Train data: 0.851 and on Test Data: 0.792\n"
     ]
    }
   ],
   "source": [
    "model_print_score(dt, list_results, wall_time)"
   ]
  },
  {
   "cell_type": "code",
   "execution_count": 18,
   "id": "ee9700c0",
   "metadata": {},
   "outputs": [
    {
     "data": {
      "text/plain": [
       "[('DecisionTreeClassifier', 0.851, 0.792, '2.31 ms')]"
      ]
     },
     "execution_count": 18,
     "metadata": {},
     "output_type": "execute_result"
    }
   ],
   "source": [
    "list_results"
   ]
  },
  {
   "cell_type": "markdown",
   "id": "6df84669",
   "metadata": {},
   "source": [
    "#### 2. Gaussian Naive Bayes Classifier\n",
    "We will proceed with the same exact steps for all the Models. Here 'Gaussian Naive Bayes':"
   ]
  },
  {
   "cell_type": "code",
   "execution_count": 19,
   "id": "d12e2c2d",
   "metadata": {},
   "outputs": [],
   "source": [
    "%%capture exec_time\n",
    "%%time\n",
    "# Gaussian Naive Bayes\n",
    "gnb = GaussianNB()\n",
    "gnb.fit(X_train_sc, y_train)"
   ]
  },
  {
   "cell_type": "code",
   "execution_count": 20,
   "id": "0eee06be",
   "metadata": {},
   "outputs": [
    {
     "name": "stdout",
     "output_type": "stream",
     "text": [
      "CPU times: user 1.2 ms, sys: 636 us, total: 1.83 ms\n",
      "Wall time: 1.28 ms\n",
      "\n"
     ]
    }
   ],
   "source": [
    "print(exec_time)"
   ]
  },
  {
   "cell_type": "code",
   "execution_count": 21,
   "id": "cf28d28c",
   "metadata": {},
   "outputs": [
    {
     "data": {
      "text/plain": [
       "'1.28 ms'"
      ]
     },
     "execution_count": 21,
     "metadata": {},
     "output_type": "execute_result"
    }
   ],
   "source": [
    "# Parse the \"Wall time\" from the \"exec_timeoutput\n",
    "wall_time = exec_time.stdout.strip().split(\"\\n\")[1][11:]\n",
    "wall_time"
   ]
  },
  {
   "cell_type": "markdown",
   "id": "dfde8d6d",
   "metadata": {},
   "source": [
    "##### Get the Train/Test scores from the Model and save the values"
   ]
  },
  {
   "cell_type": "code",
   "execution_count": 22,
   "id": "964dc405",
   "metadata": {},
   "outputs": [
    {
     "name": "stdout",
     "output_type": "stream",
     "text": [
      "Accuracy on Train data: 0.799 and on Test Data: 0.742\n"
     ]
    }
   ],
   "source": [
    "model_print_score(gnb, list_results, wall_time)"
   ]
  },
  {
   "cell_type": "markdown",
   "id": "c0999938",
   "metadata": {},
   "source": [
    "#### 3. Logistic Regression Classifier\n",
    "We use the classifier with the default-solver 'lbfgs' which is good for small datasets (given in the constructor for clarity purposes only)"
   ]
  },
  {
   "cell_type": "code",
   "execution_count": 23,
   "id": "dec9b1ef",
   "metadata": {},
   "outputs": [],
   "source": [
    "%%capture exec_time\n",
    "%%time\n",
    "# Logistic Regression\n",
    "lg = LogisticRegression(solver='lbfgs', random_state=42)\n",
    "lg.fit(X_train_sc, y_train)"
   ]
  },
  {
   "cell_type": "code",
   "execution_count": 24,
   "id": "06b885fe",
   "metadata": {},
   "outputs": [
    {
     "name": "stdout",
     "output_type": "stream",
     "text": [
      "CPU times: user 6.54 ms, sys: 694 us, total: 7.23 ms\n",
      "Wall time: 6.68 ms\n",
      "\n"
     ]
    }
   ],
   "source": [
    "print(exec_time)"
   ]
  },
  {
   "cell_type": "code",
   "execution_count": 25,
   "id": "0189c56a",
   "metadata": {},
   "outputs": [
    {
     "data": {
      "text/plain": [
       "'6.68 ms'"
      ]
     },
     "execution_count": 25,
     "metadata": {},
     "output_type": "execute_result"
    }
   ],
   "source": [
    "wall_time = exec_time.stdout.strip().split(\"\\n\")[1][11:]\n",
    "wall_time"
   ]
  },
  {
   "cell_type": "code",
   "execution_count": 26,
   "id": "86d18c1f",
   "metadata": {},
   "outputs": [
    {
     "name": "stdout",
     "output_type": "stream",
     "text": [
      "Accuracy on Train data: 0.813 and on Test Data: 0.753\n"
     ]
    }
   ],
   "source": [
    "model_print_score(lg, list_results, wall_time)"
   ]
  },
  {
   "cell_type": "code",
   "execution_count": 27,
   "id": "d30d8be5",
   "metadata": {},
   "outputs": [
    {
     "data": {
      "text/plain": [
       "[('DecisionTreeClassifier', 0.851, 0.792, '2.31 ms'),\n",
       " ('GaussianNB', 0.799, 0.742, '1.28 ms'),\n",
       " ('LogisticRegression', 0.813, 0.753, '6.68 ms')]"
      ]
     },
     "execution_count": 27,
     "metadata": {},
     "output_type": "execute_result"
    }
   ],
   "source": [
    "list_results"
   ]
  },
  {
   "cell_type": "markdown",
   "id": "84aa03cd",
   "metadata": {},
   "source": [
    "#### 4. Stochastic Gradient Descent Classifier\n",
    "The 'SGDClassifier' Model, set with a loss function of 'log', can provide better results than the LogisticRegression, depending on the Data. Let's use it and see if it's the case here.\n"
   ]
  },
  {
   "cell_type": "code",
   "execution_count": 28,
   "id": "7f0b09a8",
   "metadata": {},
   "outputs": [],
   "source": [
    "%%capture exec_time\n",
    "%%time\n",
    "# SGDClassifier\n",
    "\n",
    "sgd = SGDClassifier(loss='log', random_state=42)\n",
    "sgd.fit(X_train_sc, y_train)"
   ]
  },
  {
   "cell_type": "code",
   "execution_count": 29,
   "id": "2683232c",
   "metadata": {},
   "outputs": [
    {
     "name": "stdout",
     "output_type": "stream",
     "text": [
      "CPU times: user 4.82 ms, sys: 978 us, total: 5.8 ms\n",
      "Wall time: 4.92 ms\n",
      "\n"
     ]
    }
   ],
   "source": [
    "print(exec_time)"
   ]
  },
  {
   "cell_type": "code",
   "execution_count": 30,
   "id": "c8a1168e",
   "metadata": {},
   "outputs": [
    {
     "data": {
      "text/plain": [
       "'4.92 ms'"
      ]
     },
     "execution_count": 30,
     "metadata": {},
     "output_type": "execute_result"
    }
   ],
   "source": [
    "wall_time = exec_time.stdout.strip().split(\"\\n\")[1][11:]\n",
    "wall_time"
   ]
  },
  {
   "cell_type": "code",
   "execution_count": 31,
   "id": "1297d5d7",
   "metadata": {},
   "outputs": [
    {
     "name": "stdout",
     "output_type": "stream",
     "text": [
      "Accuracy on Train data: 0.802 and on Test Data: 0.742\n"
     ]
    }
   ],
   "source": [
    "model_print_score(sgd, list_results, wall_time)"
   ]
  },
  {
   "cell_type": "markdown",
   "id": "507d5438",
   "metadata": {},
   "source": [
    "The Logistic Regression Classifier performed better."
   ]
  },
  {
   "cell_type": "markdown",
   "id": "5c5d5d1f",
   "metadata": {},
   "source": [
    "#### 5. Support Vector Classifier"
   ]
  },
  {
   "cell_type": "code",
   "execution_count": 32,
   "id": "19f871a3",
   "metadata": {},
   "outputs": [],
   "source": [
    "%%capture exec_time\n",
    "%%time\n",
    "# SVC\n",
    "svc = SVC()\n",
    "svc.fit(X_train_sc, y_train)"
   ]
  },
  {
   "cell_type": "code",
   "execution_count": 33,
   "id": "330af1aa",
   "metadata": {},
   "outputs": [
    {
     "name": "stdout",
     "output_type": "stream",
     "text": [
      "CPU times: user 9.65 ms, sys: 990 us, total: 10.6 ms\n",
      "Wall time: 9.88 ms\n",
      "\n"
     ]
    }
   ],
   "source": [
    "print(exec_time)"
   ]
  },
  {
   "cell_type": "code",
   "execution_count": 34,
   "id": "75b4696f",
   "metadata": {},
   "outputs": [
    {
     "data": {
      "text/plain": [
       "'9.88 ms'"
      ]
     },
     "execution_count": 34,
     "metadata": {},
     "output_type": "execute_result"
    }
   ],
   "source": [
    "wall_time = exec_time.stdout.strip().split(\"\\n\")[1][11:]\n",
    "wall_time"
   ]
  },
  {
   "cell_type": "code",
   "execution_count": 35,
   "id": "9750cf13",
   "metadata": {},
   "outputs": [
    {
     "name": "stdout",
     "output_type": "stream",
     "text": [
      "Accuracy on Train data: 0.827 and on Test Data: 0.764\n"
     ]
    }
   ],
   "source": [
    "model_print_score(svc, list_results, wall_time)"
   ]
  },
  {
   "cell_type": "markdown",
   "id": "48805703",
   "metadata": {},
   "source": [
    "### First Comparison between the 'weak' Learners:"
   ]
  },
  {
   "cell_type": "markdown",
   "id": "5471a592",
   "metadata": {},
   "source": [
    "We can use the `list_results` variable to compare the Performance of our weak Learners in a Barchart. "
   ]
  },
  {
   "cell_type": "markdown",
   "id": "691a5ee9",
   "metadata": {},
   "source": [
    "##### Get the list of Results and format them in a 'Pandas Dataframe' which is best to use for plotting with seaborn:"
   ]
  },
  {
   "cell_type": "code",
   "execution_count": 36,
   "id": "84a0ca9d",
   "metadata": {},
   "outputs": [
    {
     "data": {
      "text/plain": [
       "[('DecisionTreeClassifier', 0.851, 0.792, '2.31 ms'),\n",
       " ('GaussianNB', 0.799, 0.742, '1.28 ms'),\n",
       " ('LogisticRegression', 0.813, 0.753, '6.68 ms'),\n",
       " ('SGDClassifier', 0.802, 0.742, '4.92 ms'),\n",
       " ('SVC', 0.827, 0.764, '9.88 ms')]"
      ]
     },
     "execution_count": 36,
     "metadata": {},
     "output_type": "execute_result"
    }
   ],
   "source": [
    "list_results"
   ]
  },
  {
   "cell_type": "code",
   "execution_count": 37,
   "id": "77bd2249",
   "metadata": {},
   "outputs": [
    {
     "data": {
      "text/html": [
       "<div>\n",
       "<style scoped>\n",
       "    .dataframe tbody tr th:only-of-type {\n",
       "        vertical-align: middle;\n",
       "    }\n",
       "\n",
       "    .dataframe tbody tr th {\n",
       "        vertical-align: top;\n",
       "    }\n",
       "\n",
       "    .dataframe thead th {\n",
       "        text-align: right;\n",
       "    }\n",
       "</style>\n",
       "<table border=\"1\" class=\"dataframe\">\n",
       "  <thead>\n",
       "    <tr style=\"text-align: right;\">\n",
       "      <th></th>\n",
       "      <th>Model</th>\n",
       "      <th>Train_score</th>\n",
       "      <th>Test_score</th>\n",
       "      <th>Training_time</th>\n",
       "    </tr>\n",
       "  </thead>\n",
       "  <tbody>\n",
       "    <tr>\n",
       "      <th>0</th>\n",
       "      <td>DecisionTreeClassifier</td>\n",
       "      <td>0.851</td>\n",
       "      <td>0.792</td>\n",
       "      <td>2.31 ms</td>\n",
       "    </tr>\n",
       "    <tr>\n",
       "      <th>1</th>\n",
       "      <td>GaussianNB</td>\n",
       "      <td>0.799</td>\n",
       "      <td>0.742</td>\n",
       "      <td>1.28 ms</td>\n",
       "    </tr>\n",
       "    <tr>\n",
       "      <th>2</th>\n",
       "      <td>LogisticRegression</td>\n",
       "      <td>0.813</td>\n",
       "      <td>0.753</td>\n",
       "      <td>6.68 ms</td>\n",
       "    </tr>\n",
       "    <tr>\n",
       "      <th>3</th>\n",
       "      <td>SGDClassifier</td>\n",
       "      <td>0.802</td>\n",
       "      <td>0.742</td>\n",
       "      <td>4.92 ms</td>\n",
       "    </tr>\n",
       "    <tr>\n",
       "      <th>4</th>\n",
       "      <td>SVC</td>\n",
       "      <td>0.827</td>\n",
       "      <td>0.764</td>\n",
       "      <td>9.88 ms</td>\n",
       "    </tr>\n",
       "  </tbody>\n",
       "</table>\n",
       "</div>"
      ],
      "text/plain": [
       "                    Model  Train_score  Test_score Training_time\n",
       "0  DecisionTreeClassifier        0.851       0.792       2.31 ms\n",
       "1              GaussianNB        0.799       0.742       1.28 ms\n",
       "2      LogisticRegression        0.813       0.753       6.68 ms\n",
       "3           SGDClassifier        0.802       0.742       4.92 ms\n",
       "4                     SVC        0.827       0.764       9.88 ms"
      ]
     },
     "execution_count": 37,
     "metadata": {},
     "output_type": "execute_result"
    }
   ],
   "source": [
    "# get the List as a Pandas Dataframe:\n",
    "df_result = pd.DataFrame()\n",
    "\n",
    "for i, val in enumerate(list_results):\n",
    "    df_result.loc[i, 'Model'] = val[0]\n",
    "    df_result.loc[i, 'Train_score'] = val[1]\n",
    "    df_result.loc[i, 'Test_score'] = val[2]\n",
    "    df_result.loc[i, 'Training_time'] = val[3]\n",
    "df_result.head()"
   ]
  },
  {
   "cell_type": "markdown",
   "id": "eecc55c6",
   "metadata": {},
   "source": [
    "##### Plot the Results for the Train and Test Accuracy Scores in a Clustered Barchart:"
   ]
  },
  {
   "cell_type": "code",
   "execution_count": 38,
   "id": "be17db07",
   "metadata": {},
   "outputs": [
    {
     "data": {
      "image/png": "[encoded data removed]",
      "text/plain": [
       "<Figure size 432x288 with 1 Axes>"
      ]
     },
     "metadata": {},
     "output_type": "display_data"
    }
   ],
   "source": [
    "sns.set_theme(style='darkgrid');\n",
    "\n",
    "font = {'family': 'serif',\n",
    "        'color':  'darkred',\n",
    "        'weight': 'normal',\n",
    "        'size': 14,\n",
    "        }\n",
    "\n",
    "df_result.plot(kind='bar', x='Model', y=['Train_score', 'Test_score']);\n",
    "plt.xticks(rotation=30);\n",
    "plt.xlabel(\"'Weak' Models\",fontdict=font);\n",
    "plt.ylabel(\"Accuracy (in Proportion)\", fontdict=font);\n",
    "plt.title(\"Accuracy scores on the Train and Test Data\", fontdict=font);"
   ]
  },
  {
   "cell_type": "markdown",
   "id": "5c959a8d",
   "metadata": {},
   "source": [
    "We can see that the single Classifiers perform equivalently good, both on Test and Training Data (The Prediction Accuracy on the Test Data being the metric that really matters, as we are only interested to know, how good a model is at predicting data it has never seen before).<br>\n",
    "The <b>Decision Tree Classifier</b> outperforms slightly all other Models. The Accuray reached  on the Training Set is more than $85\\%$ and the Accuracy of the Predictions on the Test Set is almost $80\\%$ "
   ]
  },
  {
   "cell_type": "markdown",
   "id": "300dfeb7",
   "metadata": {},
   "source": [
    "Let's now build some Ensemble Learners and see if we can improve the performance of the single Learners!"
   ]
  },
  {
   "cell_type": "markdown",
   "id": "85da527f",
   "metadata": {},
   "source": [
    "### 2. Ensemble Learners"
   ]
  },
  {
   "cell_type": "markdown",
   "id": "9a681490",
   "metadata": {},
   "source": [
    "#### I/ Random Forest Classifier\n",
    "Random Forest takes 100 Decision Trees estimators by default and feeds them with a randomised subset of the Features. We set a `max_depth`of 8, to avoid overfitting of the underlying Decision Trees."
   ]
  },
  {
   "cell_type": "code",
   "execution_count": 39,
   "id": "1494ba25",
   "metadata": {},
   "outputs": [],
   "source": [
    "%%capture exec_time\n",
    "%%time\n",
    "#Random Forest - Ensemble of Descision Trees\n",
    "\n",
    "rf = RandomForestClassifier(max_depth=8, random_state=42, criterion='entropy')\n",
    "rf.fit(X_train_sc,y_train)"
   ]
  },
  {
   "cell_type": "code",
   "execution_count": 40,
   "id": "475ad185",
   "metadata": {},
   "outputs": [
    {
     "name": "stdout",
     "output_type": "stream",
     "text": [
      "CPU times: user 262 ms, sys: 11.2 ms, total: 273 ms\n",
      "Wall time: 93.3 ms\n",
      "\n"
     ]
    }
   ],
   "source": [
    "print(exec_time)"
   ]
  },
  {
   "cell_type": "code",
   "execution_count": 41,
   "id": "890dd6d5",
   "metadata": {},
   "outputs": [
    {
     "data": {
      "text/plain": [
       "'93.3 ms'"
      ]
     },
     "execution_count": 41,
     "metadata": {},
     "output_type": "execute_result"
    }
   ],
   "source": [
    "wall_time = exec_time.stdout.strip().split(\"\\n\")[1][11:]\n",
    "wall_time"
   ]
  },
  {
   "cell_type": "code",
   "execution_count": 42,
   "id": "1e89f02d",
   "metadata": {},
   "outputs": [
    {
     "name": "stdout",
     "output_type": "stream",
     "text": [
      "Accuracy on Train data: 0.923 and on Test Data: 0.798\n"
     ]
    }
   ],
   "source": [
    "model_print_score(rf, list_results, wall_time)"
   ]
  },
  {
   "cell_type": "markdown",
   "id": "68b0f56f",
   "metadata": {},
   "source": [
    "Notes about the results: \n",
    "- We slightly could improve the Accuracy on the Test Data by choosing the `'entropy'` criterion over `'gini'`\n",
    "- We only got a slight improvement on the accuracy on the Test Data ($79.8\\%$), in comparison with a single Decision Tree ($79.2\\%$)"
   ]
  },
  {
   "cell_type": "markdown",
   "id": "cae6bc4b",
   "metadata": {},
   "source": [
    "#### II/ Bagging Classifier\n",
    "The Bootstrap aggregating Classifier, randomly takes subsets of the training data, with replacement (i.e 'bootstrap') and feeds them to its Classifiers (all of the same type), which we set as 'Decision Trees' to make a direct comparison with our last Random Forest Ensemble.\n",
    "We also set the number of estimators to 100 for the same reason."
   ]
  },
  {
   "cell_type": "code",
   "execution_count": 43,
   "id": "350e6d74",
   "metadata": {},
   "outputs": [],
   "source": [
    "%%capture exec_time\n",
    "%%time\n",
    "#Bagging \n",
    "\n",
    "bg = BaggingClassifier(DecisionTreeClassifier(), max_samples= 0.5, max_features = 1.0, \n",
    "                       n_estimators = 100)\n",
    "bg.fit(X_train_sc, y_train)"
   ]
  },
  {
   "cell_type": "code",
   "execution_count": 44,
   "id": "63ce4bb7",
   "metadata": {},
   "outputs": [
    {
     "name": "stdout",
     "output_type": "stream",
     "text": [
      "CPU times: user 112 ms, sys: 1.63 ms, total: 114 ms\n",
      "Wall time: 113 ms\n",
      "\n"
     ]
    }
   ],
   "source": [
    "print(exec_time)"
   ]
  },
  {
   "cell_type": "code",
   "execution_count": 45,
   "id": "d6b27904",
   "metadata": {},
   "outputs": [
    {
     "data": {
      "text/plain": [
       "'113 ms'"
      ]
     },
     "execution_count": 45,
     "metadata": {},
     "output_type": "execute_result"
    }
   ],
   "source": [
    "wall_time = exec_time.stdout.strip().split(\"\\n\")[1][11:]\n",
    "wall_time"
   ]
  },
  {
   "cell_type": "code",
   "execution_count": 46,
   "id": "685eab53",
   "metadata": {},
   "outputs": [
    {
     "name": "stdout",
     "output_type": "stream",
     "text": [
      "Accuracy on Train data: 0.941 and on Test Data: 0.792\n"
     ]
    }
   ],
   "source": [
    "model_print_score(bg, list_results, wall_time)"
   ]
  },
  {
   "cell_type": "code",
   "execution_count": 47,
   "id": "06d9d013",
   "metadata": {},
   "outputs": [
    {
     "data": {
      "text/plain": [
       "[('DecisionTreeClassifier', 0.851, 0.792, '2.31 ms'),\n",
       " ('GaussianNB', 0.799, 0.742, '1.28 ms'),\n",
       " ('LogisticRegression', 0.813, 0.753, '6.68 ms'),\n",
       " ('SGDClassifier', 0.802, 0.742, '4.92 ms'),\n",
       " ('SVC', 0.827, 0.764, '9.88 ms'),\n",
       " ('RandomForestClassifier', 0.923, 0.798, '93.3 ms'),\n",
       " ('BaggingClassifier', 0.941, 0.792, '113 ms')]"
      ]
     },
     "execution_count": 47,
     "metadata": {},
     "output_type": "execute_result"
    }
   ],
   "source": [
    "list_results"
   ]
  },
  {
   "cell_type": "markdown",
   "id": "2f76ee62",
   "metadata": {},
   "source": [
    "#### III/ Boosting Ensemble - Ada Boost\n",
    "The Boosting technique strategy is to use a Class of single Learners sequentially, all feeded with a random subset of the Training Data, but where misclassified Samples will be re-used by the next Model, in the \"hope\" to correct the error. We will train several Boosting Models, beginning with 'Ada Boost'."
   ]
  },
  {
   "cell_type": "code",
   "execution_count": 48,
   "id": "c7f4e9ab",
   "metadata": {},
   "outputs": [],
   "source": [
    "%%capture exec_time\n",
    "%%time\n",
    "#Boosting - Ada Boost\n",
    "\n",
    "adb = AdaBoostClassifier(DecisionTreeClassifier(),n_estimators = 100, learning_rate = 1)\n",
    "adb.fit(X_train_sc,y_train)"
   ]
  },
  {
   "cell_type": "code",
   "execution_count": 49,
   "id": "53599bed",
   "metadata": {},
   "outputs": [
    {
     "name": "stdout",
     "output_type": "stream",
     "text": [
      "CPU times: user 146 ms, sys: 1.45 ms, total: 148 ms\n",
      "Wall time: 147 ms\n",
      "\n"
     ]
    }
   ],
   "source": [
    "print(exec_time)"
   ]
  },
  {
   "cell_type": "code",
   "execution_count": 50,
   "id": "05b2055c",
   "metadata": {},
   "outputs": [
    {
     "data": {
      "text/plain": [
       "'147 ms'"
      ]
     },
     "execution_count": 50,
     "metadata": {},
     "output_type": "execute_result"
    }
   ],
   "source": [
    "wall_time = exec_time.stdout.strip().split(\"\\n\")[1][11:]\n",
    "wall_time"
   ]
  },
  {
   "cell_type": "code",
   "execution_count": 51,
   "id": "28911f36",
   "metadata": {},
   "outputs": [
    {
     "name": "stdout",
     "output_type": "stream",
     "text": [
      "Accuracy on Train data: 0.986 and on Test Data: 0.781\n"
     ]
    }
   ],
   "source": [
    "model_print_score(adb, list_results, wall_time)"
   ]
  },
  {
   "cell_type": "markdown",
   "id": "c45e62cc",
   "metadata": {},
   "source": [
    "#### IV/ Boosting Ensemble - Gradient Boosting"
   ]
  },
  {
   "cell_type": "code",
   "execution_count": 52,
   "id": "637061a7",
   "metadata": {},
   "outputs": [],
   "source": [
    "%%capture exec_time\n",
    "%%time\n",
    "#Gradient Boosting\n",
    "\n",
    "gbc = GradientBoostingClassifier(n_estimators=100, learning_rate=1)\n",
    "gbc.fit(X_train_sc, y_train)"
   ]
  },
  {
   "cell_type": "code",
   "execution_count": 53,
   "id": "b4cdee2f",
   "metadata": {},
   "outputs": [
    {
     "name": "stdout",
     "output_type": "stream",
     "text": [
      "CPU times: user 59 ms, sys: 970 us, total: 60 ms\n",
      "Wall time: 59.3 ms\n",
      "\n"
     ]
    }
   ],
   "source": [
    "print(exec_time)"
   ]
  },
  {
   "cell_type": "code",
   "execution_count": 54,
   "id": "0afb6c31",
   "metadata": {},
   "outputs": [
    {
     "data": {
      "text/plain": [
       "'59.3 ms'"
      ]
     },
     "execution_count": 54,
     "metadata": {},
     "output_type": "execute_result"
    }
   ],
   "source": [
    "wall_time = exec_time.stdout.strip().split(\"\\n\")[1][11:]\n",
    "wall_time"
   ]
  },
  {
   "cell_type": "code",
   "execution_count": 55,
   "id": "624547c0",
   "metadata": {},
   "outputs": [
    {
     "name": "stdout",
     "output_type": "stream",
     "text": [
      "Accuracy on Train data: 0.986 and on Test Data: 0.781\n"
     ]
    }
   ],
   "source": [
    "model_print_score(gbc, list_results, wall_time)"
   ]
  },
  {
   "cell_type": "markdown",
   "id": "215ff8cf",
   "metadata": {},
   "source": [
    "#### V/ Boosting Ensemble - Extreme Gradient Boosting (XGBoost)\n",
    "XGBoost is an improvement of the Gradient Boosting Model and counts today as 'state-of-the-art' for solving complex Machine Learning Problems, together with Neural Network Models."
   ]
  },
  {
   "cell_type": "code",
   "execution_count": 56,
   "id": "2e1c9035",
   "metadata": {},
   "outputs": [],
   "source": [
    "%%capture exec_time\n",
    "%%time\n",
    "#XGBoost\n",
    "\n",
    "xgb_cl = xgb.XGBClassifier(n_estimators= 100, learning_rate=1, use_label_encoder=False, \n",
    "                           random_state=42)\n",
    "xgb_cl.fit(X_train_sc, y_train)"
   ]
  },
  {
   "cell_type": "code",
   "execution_count": 57,
   "id": "a760ff15",
   "metadata": {},
   "outputs": [
    {
     "name": "stdout",
     "output_type": "stream",
     "text": [
      "[17:08:45] WARNING: /Users/runner/miniforge3/conda-bld/xgboost-split_1644955448402/work/src/learner.cc:1115: Starting in XGBoost 1.3.0, the default evaluation metric used with the objective 'binary:logistic' was changed from 'error' to 'logloss'. Explicitly set eval_metric if you'd like to restore the old behavior.\n",
      "CPU times: user 579 ms, sys: 69 ms, total: 648 ms\n",
      "Wall time: 87.1 ms\n",
      "\n"
     ]
    }
   ],
   "source": [
    "print(exec_time)"
   ]
  },
  {
   "cell_type": "code",
   "execution_count": 58,
   "id": "29c39c4d",
   "metadata": {},
   "outputs": [
    {
     "data": {
      "text/plain": [
       "'87.1 ms'"
      ]
     },
     "execution_count": 58,
     "metadata": {},
     "output_type": "execute_result"
    }
   ],
   "source": [
    "wall_time = exec_time.stdout.strip().rsplit(\"\\n\")[2][11:]\n",
    "wall_time"
   ]
  },
  {
   "cell_type": "code",
   "execution_count": 59,
   "id": "4a4290ab",
   "metadata": {},
   "outputs": [
    {
     "name": "stdout",
     "output_type": "stream",
     "text": [
      "Accuracy on Train data: 0.985 and on Test Data: 0.798\n"
     ]
    }
   ],
   "source": [
    "model_print_score(xgb_cl, list_results, wall_time)"
   ]
  },
  {
   "cell_type": "markdown",
   "id": "fb632063",
   "metadata": {},
   "source": [
    "#### VI/ Voting Classifier Ensemble with LogisticRegression, RandomForest and SupportVectorClassifier\n",
    "Voting Classifiers are Ensembles of different types of Single Learners and also Random Forest Ensembles.\n",
    "Let's use them with some of our instances:"
   ]
  },
  {
   "cell_type": "code",
   "execution_count": 60,
   "id": "cdf63c07",
   "metadata": {},
   "outputs": [],
   "source": [
    "%%capture exec_time\n",
    "%%time\n",
    "\n",
    "#sgd = SGDClassifier(loss='log')\n",
    "#rnd_clf = RandomForestClassifier()\n",
    "#svm_clf = SVC()\n",
    "\n",
    "voting_clf = VotingClassifier(estimators=[('lr', lg), ('rf', rf), ('svc', svc)], \n",
    "                              voting='hard')\n",
    "voting_clf.fit(X_train_sc, y_train)"
   ]
  },
  {
   "cell_type": "code",
   "execution_count": 61,
   "id": "2ccb2faa",
   "metadata": {},
   "outputs": [
    {
     "name": "stdout",
     "output_type": "stream",
     "text": [
      "CPU times: user 695 ms, sys: 126 ms, total: 821 ms\n",
      "Wall time: 110 ms\n",
      "\n"
     ]
    }
   ],
   "source": [
    "print(exec_time)"
   ]
  },
  {
   "cell_type": "code",
   "execution_count": 62,
   "id": "9d579dab",
   "metadata": {},
   "outputs": [
    {
     "data": {
      "text/plain": [
       "'110 ms'"
      ]
     },
     "execution_count": 62,
     "metadata": {},
     "output_type": "execute_result"
    }
   ],
   "source": [
    "wall_time = exec_time.stdout.strip().split(\"\\n\")[1][11:]\n",
    "wall_time"
   ]
  },
  {
   "cell_type": "code",
   "execution_count": 63,
   "id": "8b3ed192",
   "metadata": {},
   "outputs": [
    {
     "name": "stdout",
     "output_type": "stream",
     "text": [
      "Accuracy on Train data: 0.861 and on Test Data: 0.781\n"
     ]
    }
   ],
   "source": [
    "model_print_score(voting_clf, list_results, wall_time, 'Voting(LG, RF, SVC)')"
   ]
  },
  {
   "cell_type": "code",
   "execution_count": 64,
   "id": "0a8f1ad3",
   "metadata": {},
   "outputs": [
    {
     "data": {
      "text/plain": [
       "[('DecisionTreeClassifier', 0.851, 0.792, '2.31 ms'),\n",
       " ('GaussianNB', 0.799, 0.742, '1.28 ms'),\n",
       " ('LogisticRegression', 0.813, 0.753, '6.68 ms'),\n",
       " ('SGDClassifier', 0.802, 0.742, '4.92 ms'),\n",
       " ('SVC', 0.827, 0.764, '9.88 ms'),\n",
       " ('RandomForestClassifier', 0.923, 0.798, '93.3 ms'),\n",
       " ('BaggingClassifier', 0.941, 0.792, '113 ms'),\n",
       " ('AdaBoostClassifier', 0.986, 0.781, '147 ms'),\n",
       " ('GradientBoostingClassifier', 0.986, 0.781, '59.3 ms'),\n",
       " ('XGBClassifier', 0.985, 0.798, '87.1 ms'),\n",
       " ('Voting(LG, RF, SVC)', 0.861, 0.781, '110 ms')]"
      ]
     },
     "execution_count": 64,
     "metadata": {},
     "output_type": "execute_result"
    }
   ],
   "source": [
    "list_results"
   ]
  },
  {
   "cell_type": "markdown",
   "id": "ccc71555",
   "metadata": {},
   "source": [
    "#### VII/ Voting Classifier with GaussianNB, DecisionTree and SGDClassifier"
   ]
  },
  {
   "cell_type": "code",
   "execution_count": 65,
   "id": "246f97d9",
   "metadata": {},
   "outputs": [],
   "source": [
    "%%capture exec_time\n",
    "%%time\n",
    "# Second Voting Classifier\n",
    "\n",
    "evc = VotingClassifier( estimators= [('gnb',gnb),('dt',dt),('sgd',sgd)], voting = 'hard')\n",
    "evc.fit(X_train_sc,y_train)"
   ]
  },
  {
   "cell_type": "code",
   "execution_count": 66,
   "id": "3eaa4883",
   "metadata": {},
   "outputs": [
    {
     "name": "stdout",
     "output_type": "stream",
     "text": [
      "CPU times: user 27.5 ms, sys: 11.6 ms, total: 39.1 ms\n",
      "Wall time: 6.99 ms\n",
      "\n"
     ]
    }
   ],
   "source": [
    "print(exec_time)"
   ]
  },
  {
   "cell_type": "code",
   "execution_count": 67,
   "id": "6c340478",
   "metadata": {},
   "outputs": [
    {
     "data": {
      "text/plain": [
       "'6.99 ms'"
      ]
     },
     "execution_count": 67,
     "metadata": {},
     "output_type": "execute_result"
    }
   ],
   "source": [
    "wall_time = exec_time.stdout.strip().split(\"\\n\")[1][11:]\n",
    "wall_time"
   ]
  },
  {
   "cell_type": "code",
   "execution_count": 68,
   "id": "342ce923",
   "metadata": {},
   "outputs": [
    {
     "name": "stdout",
     "output_type": "stream",
     "text": [
      "Accuracy on Train data: 0.813 and on Test Data: 0.753\n"
     ]
    }
   ],
   "source": [
    "model_print_score(evc, list_results, wall_time, 'Voting(GNB, DT, SGD)')"
   ]
  },
  {
   "cell_type": "markdown",
   "id": "d7d1ea4b",
   "metadata": {},
   "source": [
    "<a id='results'></a>\n",
    "       \n",
    "### Comparing the Ensembles' Results:"
   ]
  },
  {
   "cell_type": "markdown",
   "id": "fce64ace",
   "metadata": {},
   "source": [
    "##### Plot the Results for the Train and Test Accuracy Scores of all Learners and Ensembles in a Clustered Barchart:"
   ]
  },
  {
   "cell_type": "code",
   "execution_count": 69,
   "id": "7d8ac6b3",
   "metadata": {},
   "outputs": [
    {
     "data": {
      "text/plain": [
       "[('DecisionTreeClassifier', 0.851, 0.792, '2.31 ms'),\n",
       " ('GaussianNB', 0.799, 0.742, '1.28 ms'),\n",
       " ('LogisticRegression', 0.813, 0.753, '6.68 ms'),\n",
       " ('SGDClassifier', 0.802, 0.742, '4.92 ms'),\n",
       " ('SVC', 0.827, 0.764, '9.88 ms'),\n",
       " ('RandomForestClassifier', 0.923, 0.798, '93.3 ms'),\n",
       " ('BaggingClassifier', 0.941, 0.792, '113 ms'),\n",
       " ('AdaBoostClassifier', 0.986, 0.781, '147 ms'),\n",
       " ('GradientBoostingClassifier', 0.986, 0.781, '59.3 ms'),\n",
       " ('XGBClassifier', 0.985, 0.798, '87.1 ms'),\n",
       " ('Voting(LG, RF, SVC)', 0.861, 0.781, '110 ms'),\n",
       " ('Voting(GNB, DT, SGD)', 0.813, 0.753, '6.99 ms')]"
      ]
     },
     "execution_count": 69,
     "metadata": {},
     "output_type": "execute_result"
    }
   ],
   "source": [
    "list_results"
   ]
  },
  {
   "cell_type": "code",
   "execution_count": 70,
   "id": "a3282165",
   "metadata": {},
   "outputs": [
    {
     "name": "stdout",
     "output_type": "stream",
     "text": [
      "                    Model  Train_score  Test_score Training_time\n",
      "0  DecisionTreeClassifier        0.851       0.792       2.31 ms\n",
      "1              GaussianNB        0.799       0.742       1.28 ms\n",
      "2      LogisticRegression        0.813       0.753       6.68 ms\n",
      "3           SGDClassifier        0.802       0.742       4.92 ms\n",
      "4                     SVC        0.827       0.764       9.88 ms\n",
      "\n",
      "      Train_score  Test_score\n",
      "mean       0.8184      0.7586\n",
      "max        0.8510      0.7920\n"
     ]
    }
   ],
   "source": [
    "print(df_result)\n",
    "print()\n",
    "print(df_result.describe().loc[['mean', 'max']])"
   ]
  },
  {
   "cell_type": "markdown",
   "id": "85cf0d4b",
   "metadata": {},
   "source": [
    "##### Transform our list in a dataframe as we did before:"
   ]
  },
  {
   "cell_type": "code",
   "execution_count": 71,
   "id": "18ee22f7",
   "metadata": {},
   "outputs": [
    {
     "name": "stdout",
     "output_type": "stream",
     "text": [
      "                         Model  Train_score  Test_score Training_time\n",
      "0       DecisionTreeClassifier        0.851       0.792       2.31 ms\n",
      "1                   GaussianNB        0.799       0.742       1.28 ms\n",
      "2           LogisticRegression        0.813       0.753       6.68 ms\n",
      "3                SGDClassifier        0.802       0.742       4.92 ms\n",
      "4                          SVC        0.827       0.764       9.88 ms\n",
      "5       RandomForestClassifier        0.923       0.798       93.3 ms\n",
      "6            BaggingClassifier        0.941       0.792        113 ms\n",
      "7           AdaBoostClassifier        0.986       0.781        147 ms\n",
      "8   GradientBoostingClassifier        0.986       0.781       59.3 ms\n",
      "9                XGBClassifier        0.985       0.798       87.1 ms\n",
      "10         Voting(LG, RF, SVC)        0.861       0.781        110 ms\n",
      "11        Voting(GNB, DT, SGD)        0.813       0.753       6.99 ms\n"
     ]
    }
   ],
   "source": [
    "df_res_all = pd.DataFrame()\n",
    "\n",
    "for i, val in enumerate(list_results):\n",
    "    df_res_all.loc[i, 'Model'] = val[0]\n",
    "    df_res_all.loc[i, 'Train_score'] = val[1]\n",
    "    df_res_all.loc[i, 'Test_score'] = val[2]\n",
    "    df_res_all.loc[i, 'Training_time'] = val[3]\n",
    "\n",
    "print(df_res_all)"
   ]
  },
  {
   "cell_type": "markdown",
   "id": "dd5602ce",
   "metadata": {},
   "source": [
    "##### We will extract the results of the Ensemble Models:"
   ]
  },
  {
   "cell_type": "code",
   "execution_count": 72,
   "id": "c5600508",
   "metadata": {},
   "outputs": [
    {
     "name": "stdout",
     "output_type": "stream",
     "text": [
      "                         Model  Train_score  Test_score Training_time\n",
      "5       RandomForestClassifier        0.923       0.798       93.3 ms\n",
      "6            BaggingClassifier        0.941       0.792        113 ms\n",
      "7           AdaBoostClassifier        0.986       0.781        147 ms\n",
      "8   GradientBoostingClassifier        0.986       0.781       59.3 ms\n",
      "9                XGBClassifier        0.985       0.798       87.1 ms\n",
      "10         Voting(LG, RF, SVC)        0.861       0.781        110 ms\n",
      "11        Voting(GNB, DT, SGD)        0.813       0.753       6.99 ms\n",
      "\n",
      "      Train_score  Test_score\n",
      "mean     0.927857    0.783429\n",
      "max      0.986000    0.798000\n"
     ]
    }
   ],
   "source": [
    "df_ensembles = df_res_all.loc[5:,:]\n",
    "print(df_ensembles)\n",
    "print()\n",
    "print(df_ensembles.describe().loc[['mean', 'max']])"
   ]
  },
  {
   "cell_type": "markdown",
   "id": "2051c783",
   "metadata": {},
   "source": [
    "##### Plot the results for Ensembles and single Learners"
   ]
  },
  {
   "cell_type": "code",
   "execution_count": 73,
   "id": "72d4db51",
   "metadata": {},
   "outputs": [
    {
     "data": {
      "image/png": "[encoded data removed]",
      "text/plain": [
       "<Figure size 432x288 with 1 Axes>"
      ]
     },
     "metadata": {},
     "output_type": "display_data"
    },
    {
     "data": {
      "image/png": "[encoded data removed]",
      "text/plain": [
       "<Figure size 432x288 with 1 Axes>"
      ]
     },
     "metadata": {},
     "output_type": "display_data"
    }
   ],
   "source": [
    "sns.set_theme(style='darkgrid');\n",
    "\n",
    "font = {'family': 'serif',\n",
    "        'color':  'darkred',\n",
    "        'weight': 'normal',\n",
    "        'size': 14,\n",
    "        }\n",
    "#plt.subplot(1, 2, 1)\n",
    "df_ensembles.plot(kind='bar', x='Model', y=['Train_score', 'Test_score']);\n",
    "plt.xticks(rotation=60);\n",
    "plt.xlabel(\"Ensemble Models\",fontdict=font);\n",
    "plt.ylabel(\"Accuracy (in Proportion)\", fontdict=font);\n",
    "plt.title(\"Ensemble Learning Models\", fontdict=font);\n",
    "plt.legend(loc='lower center', ncol = 2);\n",
    "\n",
    "#plt.legend(bbox_to_anchor =(0.75, 1.15), ncol = 2)\n",
    "\n",
    "#plt.subplot(1, 2, 2)\n",
    "df_result.plot(kind='bar', x='Model', y=['Train_score', 'Test_score']);\n",
    "plt.xticks(rotation=60);\n",
    "plt.xlabel(\"Single Learners\",fontdict=font);\n",
    "plt.ylabel(\"Accuracy (in Proportion)\", fontdict=font);\n",
    "plt.ylim(0, 1.0)\n",
    "plt.title(\"Single Learning Models\", fontdict=font);\n",
    "plt.legend(loc='lower center', ncol = 2);\n"
   ]
  },
  {
   "cell_type": "code",
   "execution_count": 74,
   "id": "241ccb49",
   "metadata": {},
   "outputs": [
    {
     "name": "stdout",
     "output_type": "stream",
     "text": [
      "Ensembles\n",
      "      Train_score  Test_score\n",
      "mean     0.927857    0.783429\n",
      "max      0.986000    0.798000\n",
      "\n",
      "Single Learners\n",
      "      Train_score  Test_score\n",
      "mean       0.8184      0.7586\n",
      "max        0.8510      0.7920\n"
     ]
    }
   ],
   "source": [
    "print(\"Ensembles\")\n",
    "print(df_ensembles.describe().loc[['mean', 'max']])\n",
    "print()\n",
    "print(\"Single Learners\")\n",
    "print(df_result.describe().loc[['mean', 'max']])"
   ]
  },
  {
   "cell_type": "markdown",
   "id": "22fe6e7b",
   "metadata": {},
   "source": [
    "#### Comparison and Analyse of the Results:\n",
    "\n",
    "The Ensemble Learning Models seem to perfom better, at first Glance. The average Accuracy on the Train Data is $92.8\\%$ versus $81.8\\%$ for the single models.<br>\n",
    "Yet the more meaningful accuracy of the Predictions $77.8\\%$ in average, is just slightly better than for the single Learners with an average accuracy of $75.9\\%$.<br>\n",
    "<br>\n",
    "The \"Winners\" are 'RandomForest' and 'XGBoost' Ensembles with the same best Accuracy score on Test Data $79.8\\%$.<br>\n",
    "The Decision Tree is the \"Winner\" among the Single Learners and comes very close to the best Ensembles with an Accuracy score of $79.2\\%$ on Test Data. It is worth noting that, if it is less performant by $0.6\\%$, it is also much faster than Random Forest and XGBoost (1.64ms, 94.1ms, 94.4ms respectively)"
   ]
  },
  {
   "cell_type": "markdown",
   "id": "0c620ef6",
   "metadata": {},
   "source": [
    "#### Appendix: Using a Neural Network with a Voting Classifier"
   ]
  },
  {
   "cell_type": "markdown",
   "id": "e0d15255",
   "metadata": {},
   "source": [
    "Last but not least we will now try to add a Neural Network as an additional Classifier to our last Voting Classifier Ensemble. We will therefore, use a Neural Network built in a previous Project on the same Dataset:\n",
    "\n",
    "We have 11 Input units (one for each feature), 2 hidden layers, each with 32 neurons and a 'ReLu' activation function,\n",
    "1 output layer with a single unit, since we predict two levels of a binary class (Survived:1 or zero), and a sigmoid activation function, which outputs a number between 0 and 1."
   ]
  },
  {
   "cell_type": "markdown",
   "id": "caeac8fd",
   "metadata": {},
   "source": [
    "We use the standard 'Sequential' keras Model , which is a simple stack of 'Dense' (hence fully-connected)layers."
   ]
  },
  {
   "cell_type": "markdown",
   "id": "b552aebe",
   "metadata": {},
   "source": [
    "##### Instantiate the Model with its Hyperparameters:"
   ]
  },
  {
   "cell_type": "code",
   "execution_count": 75,
   "id": "161898c5",
   "metadata": {},
   "outputs": [
    {
     "name": "stderr",
     "output_type": "stream",
     "text": [
      "2022-02-18 17:08:45.792705: I tensorflow/core/platform/cpu_feature_guard.cc:142] This TensorFlow binary is optimized with oneAPI Deep Neural Network Library (oneDNN) to use the following CPU instructions in performance-critical operations:  SSE4.1 SSE4.2\n",
      "To enable them in other operations, rebuild TensorFlow with the appropriate compiler flags.\n"
     ]
    }
   ],
   "source": [
    "neural_network = Sequential([\n",
    "                 layers.Dense(units=32, input_dim=len(X_train.columns), activation='relu'),\n",
    "                 layers.Dense(units=32, activation='relu'),\n",
    "                 layers.Dense(units=1, activation='sigmoid')\n",
    "                 ])\n"
   ]
  },
  {
   "cell_type": "code",
   "execution_count": 76,
   "id": "fb307371",
   "metadata": {},
   "outputs": [
    {
     "name": "stdout",
     "output_type": "stream",
     "text": [
      "Model: \"sequential\"\n",
      "_________________________________________________________________\n",
      "Layer (type)                 Output Shape              Param #   \n",
      "=================================================================\n",
      "dense (Dense)                (None, 32)                384       \n",
      "_________________________________________________________________\n",
      "dense_1 (Dense)              (None, 32)                1056      \n",
      "_________________________________________________________________\n",
      "dense_2 (Dense)              (None, 1)                 33        \n",
      "=================================================================\n",
      "Total params: 1,473\n",
      "Trainable params: 1,473\n",
      "Non-trainable params: 0\n",
      "_________________________________________________________________\n"
     ]
    }
   ],
   "source": [
    "neural_network.summary()"
   ]
  },
  {
   "cell_type": "markdown",
   "id": "e9cdf7c7",
   "metadata": {},
   "source": [
    "<i>Note:</i> The numbers of parameters in each layer is equal to the number of weights connected to it, plus the number of biases (one pro unit):<br><br>\n",
    "<center>$NumberParams_k = NumberUnits_{k-1} * NumberUnits_{k} + NumberUnits_{k}$</center>"
   ]
  },
  {
   "cell_type": "markdown",
   "id": "250fc3eb",
   "metadata": {},
   "source": [
    "##### Compile the Model with further Hyperparameters:"
   ]
  },
  {
   "cell_type": "markdown",
   "id": "e626800e",
   "metadata": {},
   "source": [
    "- We use the 'Binary Cross Entropy' as the Loss function wich our Network aims to minimize. This function measures the difference of the computed predicted Label from the true Label, kept in our Test Chunk.\n",
    "- The 'Adaptive Moment Optimizer' (short 'adam') is the algorithm that minimizes the Loss function, by computing its gradient and updates the weights in all layers, by back propagation, at each update step (here after each batch is processed)\n",
    "- The 'Accuracy' tells us how good the Model performs at minimizing the Loss during the training, by calculating the proportion of correct predicted Labels (on the Train Chunk), we will not extract a validation set out of the trainig data with this network, to use exactly the same Data as the other models."
   ]
  },
  {
   "cell_type": "code",
   "execution_count": 77,
   "id": "ecaa680c",
   "metadata": {},
   "outputs": [],
   "source": [
    "neural_network.compile(loss='binary_crossentropy', optimizer='adam', metrics= 'accuracy')"
   ]
  },
  {
   "cell_type": "markdown",
   "id": "6ea7fe4b",
   "metadata": {},
   "source": [
    "##### Train the Neural Network:"
   ]
  },
  {
   "cell_type": "code",
   "execution_count": 78,
   "id": "b5cf23b0",
   "metadata": {},
   "outputs": [
    {
     "name": "stderr",
     "output_type": "stream",
     "text": [
      "2022-02-18 17:08:45.913107: I tensorflow/compiler/mlir/mlir_graph_optimization_pass.cc:185] None of the MLIR Optimization Passes are enabled (registered 2)\n"
     ]
    },
    {
     "name": "stdout",
     "output_type": "stream",
     "text": [
      "CPU times: user 5.69 s, sys: 463 ms, total: 6.16 s\n",
      "Wall time: 3.77 s\n"
     ]
    },
    {
     "data": {
      "text/plain": [
       "<keras.callbacks.History at 0x7fcdbf524d60>"
      ]
     },
     "execution_count": 78,
     "metadata": {},
     "output_type": "execute_result"
    }
   ],
   "source": [
    "%%time\n",
    "\n",
    "neural_network.fit(X_train_sc, y_train, epochs=100, verbose=0, batch_size=8)"
   ]
  },
  {
   "cell_type": "markdown",
   "id": "44e99e0d",
   "metadata": {},
   "source": [
    "##### Evaluate the Neural Network:"
   ]
  },
  {
   "cell_type": "code",
   "execution_count": 79,
   "id": "d88415e6",
   "metadata": {},
   "outputs": [
    {
     "name": "stdout",
     "output_type": "stream",
     "text": [
      "6/6 [==============================] - 0s 554us/step - loss: 0.5018 - accuracy: 0.7921\n"
     ]
    }
   ],
   "source": [
    "_, acc_test  = neural_network.evaluate(X_test_sc, y_test)"
   ]
  },
  {
   "cell_type": "code",
   "execution_count": 80,
   "id": "71e869a6",
   "metadata": {},
   "outputs": [
    {
     "data": {
      "text/plain": [
       "(178, 1)"
      ]
     },
     "execution_count": 80,
     "metadata": {},
     "output_type": "execute_result"
    }
   ],
   "source": [
    "neural_network.predict(X_test_sc).shape"
   ]
  },
  {
   "cell_type": "code",
   "execution_count": 81,
   "id": "da2e7e50",
   "metadata": {},
   "outputs": [
    {
     "name": "stdout",
     "output_type": "stream",
     "text": [
      "23/23 [==============================] - 0s 410us/step - loss: 0.3458 - accuracy: 0.8594\n"
     ]
    }
   ],
   "source": [
    "_, acc_train = neural_network.evaluate(X_train_sc, y_train)"
   ]
  },
  {
   "cell_type": "markdown",
   "id": "00efe8d6",
   "metadata": {},
   "source": [
    "The Accuracy on the Train Set is about $86.6\\%$ and almost $80\\%$ on the Test set.\n"
   ]
  },
  {
   "cell_type": "markdown",
   "id": "956c7ebc",
   "metadata": {},
   "source": [
    "##### Build a scikit-learn Model from our Keras Neural Network with `KerasClassifier`:"
   ]
  },
  {
   "cell_type": "code",
   "execution_count": 82,
   "id": "11987c9f",
   "metadata": {},
   "outputs": [],
   "source": [
    "def build_neural_network():\n",
    "    model = Sequential([\n",
    "                 layers.Dense(units=32, input_dim=len(X_train.columns), activation='relu'),\n",
    "                 layers.Dense(units=32, activation='relu'),\n",
    "#                 layers.Dropout(rate=0.2, seed=42),\n",
    "                 layers.Dense(units=1, activation='sigmoid')\n",
    "            ])\n",
    "    model.compile(loss='binary_crossentropy', optimizer='adam', metrics= ['accuracy'])\n",
    "    \n",
    "    return model"
   ]
  },
  {
   "cell_type": "code",
   "execution_count": 83,
   "id": "782457b3",
   "metadata": {},
   "outputs": [],
   "source": [
    "from keras.wrappers.scikit_learn import KerasClassifier\n",
    "\n",
    "keras_nn = KerasClassifier(build_fn=build_neural_network)\n",
    "keras_nn._estimator_type = \"classifier\"\n"
   ]
  },
  {
   "cell_type": "markdown",
   "id": "c51d6507",
   "metadata": {},
   "source": [
    "##### Build a Voting Classifier Ensemble with the Neural Network as an additional Classifier:"
   ]
  },
  {
   "cell_type": "code",
   "execution_count": 84,
   "id": "145b70a5",
   "metadata": {},
   "outputs": [],
   "source": [
    "%%capture exec_time\n",
    "%%time\n",
    "\n",
    "sgd_clf = SGDClassifier(loss='log')\n",
    "rnd_clf = RandomForestClassifier()\n",
    "svm_clf = SVC(gamma=\"scale\", random_state=42,probability=True)\n",
    "\n",
    "voting_nn = VotingClassifier(estimators=[('sgd', sgd_clf), ('rf', rnd_clf), ('svc', svm_clf), \n",
    "                                         ('nn', keras_nn)], voting='soft', \n",
    "                                         flatten_transform=True)\n",
    "voting_nn.fit(X_train_sc, y_train)"
   ]
  },
  {
   "cell_type": "code",
   "execution_count": 85,
   "id": "9a24b87d",
   "metadata": {},
   "outputs": [
    {
     "name": "stdout",
     "output_type": "stream",
     "text": [
      "\r",
      " 1/23 [>.............................] - ETA: 4s - loss: 0.6749 - accuracy: 0.5625\b\b\b\b\b\b\b\b\b\b\b\b\b\b\b\b\b\b\b\b\b\b\b\b\b\b\b\b\b\b\b\b\b\b\b\b\b\b\b\b\b\b\b\b\b\b\b\b\b\b\b\b\b\b\b\b\b\b\b\b\b\b\b\b\b\b\b\b\b\b\b\b\b\b\b\b\b\b\b\b\b\b\r",
      "23/23 [==============================] - 0s 572us/step - loss: 0.6357 - accuracy: 0.6653\n",
      "CPU times: user 384 ms, sys: 13.3 ms, total: 397 ms\n",
      "Wall time: 377 ms\n",
      "\n"
     ]
    }
   ],
   "source": [
    "print(exec_time)"
   ]
  },
  {
   "cell_type": "code",
   "execution_count": 86,
   "id": "0111b3f7",
   "metadata": {},
   "outputs": [
    {
     "data": {
      "text/plain": [
       "'377 ms'"
      ]
     },
     "execution_count": 86,
     "metadata": {},
     "output_type": "execute_result"
    }
   ],
   "source": [
    "wall_time = exec_time.stdout.strip().split(\"\\n\")[2][11:]\n",
    "wall_time"
   ]
  },
  {
   "cell_type": "code",
   "execution_count": 87,
   "id": "db74114a",
   "metadata": {},
   "outputs": [
    {
     "name": "stdout",
     "output_type": "stream",
     "text": [
      "Accuracy on Train data: 0.896 and on Test Data: 0.787\n"
     ]
    }
   ],
   "source": [
    "model_print_score(voting_nn, list_results, wall_time, 'KerasNNVoting')"
   ]
  },
  {
   "cell_type": "markdown",
   "id": "97945ac2",
   "metadata": {},
   "source": [
    "##### Results\n",
    "Against our expectations, we obtained an even worse Performance than with the Single Decision Tree Classifier. It is worth precising that:\n",
    "- the here designed Neural Network is overfitting as could be seen in a previous Project (the accuracy on Validation Data was very low)\n",
    "- we had unsolved runtime errors while attempting to make predictions with the Voting Classifier with a `voting = 'hard'`parameter"
   ]
  },
  {
   "cell_type": "markdown",
   "id": "954cba35",
   "metadata": {},
   "source": [
    "<a id='conclusion'></a>\n",
    "### Conclusion and Limitations\n",
    "\n",
    "The Ensemble Learning Approach enabled us to build different Models that performed quite good at predicting wether a Passenger did survive the 'Titanic' Tragedy based on its Characteristics. We first built different typical Machine Learning Single Classifiers and moved on to implement different Ensemble Learning Techniques using these single Classifiers. We could even build a <b>Voting Classifier</b> Ensemble, containting a Keras Neural Network Model.<br>\n",
    "The best Performance obtained in terms of Accuracy of Prediction on Test Data were obtained by the:\n",
    "- <b>Decision Tree</b> Classifier with $85.1\\%$ accuracy on Train data, $79.2\\%$ on Test data and $2.13ms$ training time\n",
    "- <b>Random Forest</b> Classifier with $92.3\\%$ accuracy on Train data, $79.8\\%$ on Test data and $93.9ms$ training time\n",
    "- <b>XGBoost</b> Classifier with $98.5\\%$ Accuracy on Train data, $79.8\\%$ on Test data and $104ms$ training time\n",
    "<br>\n",
    "<br>\n",
    "\n",
    "Limitation: the performance of our Models depend on the quantity of the data samples available. This Dataset contains less than 1000 samples which is not much to work with. The Results are actually quite satisfying, considering this limitation. The reason is, as we could show with an Exploratory Data Analysis, that the Response is strongly correlated with some features in the Dataset ('Gender' and 'Class of Travelling' for example). The single and Ensembe learning Models make this correlation speak!\n"
   ]
  }
 ],
 "metadata": {
  "kernelspec": {
   "display_name": "Python [conda env:env_ML_xgboost]",
   "language": "python",
   "name": "conda-env-env_ML_xgboost-py"
  },
  "language_info": {
   "codemirror_mode": {
    "name": "ipython",
    "version": 3
   },
   "file_extension": ".py",
   "mimetype": "text/x-python",
   "name": "python",
   "nbconvert_exporter": "python",
   "pygments_lexer": "ipython3",
   "version": "3.9.7"
  }
 },
 "nbformat": 4,
 "nbformat_minor": 5
}
